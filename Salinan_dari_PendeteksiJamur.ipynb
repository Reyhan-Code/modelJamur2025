{
  "cells": [
    {
      "cell_type": "markdown",
      "metadata": {
        "id": "view-in-github",
        "colab_type": "text"
      },
      "source": [
        "<a href=\"https://colab.research.google.com/github/Reyhan-Code/modelJamur2025/blob/main/Salinan_dari_PendeteksiJamur.ipynb\" target=\"_parent\"><img src=\"https://colab.research.google.com/assets/colab-badge.svg\" alt=\"Open In Colab\"/></a>"
      ]
    },
    {
      "cell_type": "code",
      "execution_count": 1,
      "metadata": {
        "id": "-v0NVEZQ1nqp"
      },
      "outputs": [],
      "source": [
        "import os\n",
        "import pandas as pd\n",
        "import zipfile\n",
        "import gdown\n",
        "import numpy as np\n",
        "import tensorflow as tf\n",
        "from tensorflow.keras.applications import MobileNetV2\n",
        "from tensorflow.keras import layers, models\n",
        "from tensorflow.keras.optimizers import Adam\n",
        "from sklearn.preprocessing import LabelBinarizer\n",
        "from tensorflow.keras.utils import to_categorical\n",
        "from keras.preprocessing import image\n",
        "import matplotlib.pyplot as plt\n",
        "from sklearn.metrics import classification_report, confusion_matrix, accuracy_score\n",
        "import seaborn as sns\n",
        "# from google.colab import drive\n",
        "from PIL import Image"
      ]
    },
    {
      "cell_type": "code",
      "source": [
        "# Ganti dengan ID file Anda\n",
        "file_id = '1612QhGakZUQjDPMz-HnGXTVmPr7Klu_d'\n",
        "url = f'https://drive.google.com/uc?id={file_id}'\n",
        "\n",
        "# Lokasi tempat menyimpan file zip yang diunduh\n",
        "zip_path = '/content/dataset_jamur2.zip'\n",
        "\n",
        "# Mengunduh file\n",
        "gdown.download(url, zip_path, quiet=False)\n",
        "\n",
        "# Ekstrak file\n",
        "with zipfile.ZipFile(zip_path, 'r') as zip_ref:\n",
        "    zip_ref.extractall('/content/my_folder')"
      ],
      "metadata": {
        "colab": {
          "base_uri": "https://localhost:8080/"
        },
        "id": "M0CnyItiB2NM",
        "outputId": "f2b16bb5-cfee-4a8e-cb9d-7db0f7322b3f"
      },
      "execution_count": 2,
      "outputs": [
        {
          "output_type": "stream",
          "name": "stderr",
          "text": [
            "Downloading...\n",
            "From (original): https://drive.google.com/uc?id=1612QhGakZUQjDPMz-HnGXTVmPr7Klu_d\n",
            "From (redirected): https://drive.google.com/uc?id=1612QhGakZUQjDPMz-HnGXTVmPr7Klu_d&confirm=t&uuid=03d269e4-7997-4b8c-9db7-6d501b93204c\n",
            "To: /content/dataset_jamur2.zip\n",
            "100%|██████████| 290M/290M [00:11<00:00, 26.2MB/s]\n"
          ]
        }
      ]
    },
    {
      "cell_type": "code",
      "execution_count": 5,
      "metadata": {
        "id": "4s9KN-sY1ste"
      },
      "outputs": [],
      "source": [
        "# Update base_dir\n",
        "base_dir = '/content/my_folder/jamur_dataset2/jamur_dataset' # Adjust to the new extraction path\n",
        "train_dir = os.path.join(base_dir, 'train')\n",
        "validation_dir = os.path.join(base_dir, 'validation')"
      ]
    },
    {
      "cell_type": "code",
      "execution_count": 6,
      "metadata": {
        "id": "-Oxnl66l1w7D"
      },
      "outputs": [],
      "source": [
        "def load_images_from_directory(directory, width, height):\n",
        "    image_data = []\n",
        "    image_target = []\n",
        "    classes = os.listdir(directory)\n",
        "    for title in classes:\n",
        "        class_dir = os.path.join(directory, title)\n",
        "        if os.path.isdir(class_dir):\n",
        "            for img_name in os.listdir(class_dir):\n",
        "                img_path = os.path.join(class_dir, img_name)\n",
        "                try:\n",
        "                    with Image.open(img_path) as img:\n",
        "                        img = img.convert(\"RGB\")\n",
        "                        img = img.resize((width, height))\n",
        "                        img_array = np.array(img)\n",
        "                        image_data.append(img_array)\n",
        "                        image_target.append(title)\n",
        "                except Exception as e:\n",
        "                    print(f\"Error loading image {img_path}: {e}\")\n",
        "    return np.array(image_data), np.array(image_target)"
      ]
    },
    {
      "cell_type": "code",
      "execution_count": 7,
      "metadata": {
        "id": "QOOt8pqE1zhG",
        "colab": {
          "base_uri": "https://localhost:8080/"
        },
        "outputId": "81b63cf6-9d29-4405-bbe6-6c1e13f65eea"
      },
      "outputs": [
        {
          "output_type": "stream",
          "name": "stderr",
          "text": [
            "/usr/local/lib/python3.11/dist-packages/PIL/Image.py:1045: UserWarning: Palette images with Transparency expressed in bytes should be converted to RGBA images\n",
            "  warnings.warn(\n"
          ]
        }
      ],
      "source": [
        "train_images, train_labels = load_images_from_directory(train_dir, 224, 224)\n",
        "validation_images, validation_labels = load_images_from_directory(validation_dir, 224, 224)\n",
        "\n",
        "train_images = train_images.astype('float32') / 255.0\n",
        "validation_images = validation_images.astype('float32') / 255.0\n",
        "\n",
        "lb = LabelBinarizer()\n",
        "train_labels = lb.fit_transform(train_labels)\n",
        "validation_labels = lb.transform(validation_labels)"
      ]
    },
    {
      "cell_type": "code",
      "execution_count": 8,
      "metadata": {
        "id": "8SPWzF2tKP2C",
        "colab": {
          "base_uri": "https://localhost:8080/"
        },
        "outputId": "3e21af40-d3d3-4945-97ea-8a2d247d1ed6"
      },
      "outputs": [
        {
          "output_type": "stream",
          "name": "stdout",
          "text": [
            "Downloading data from https://storage.googleapis.com/tensorflow/keras-applications/mobilenet_v2/mobilenet_v2_weights_tf_dim_ordering_tf_kernels_1.0_224_no_top.h5\n",
            "\u001b[1m9406464/9406464\u001b[0m \u001b[32m━━━━━━━━━━━━━━━━━━━━\u001b[0m\u001b[37m\u001b[0m \u001b[1m2s\u001b[0m 0us/step\n"
          ]
        }
      ],
      "source": [
        "base_model = MobileNetV2(weights='imagenet', include_top=False, input_shape=(224, 224, 3))\n",
        "\n",
        "model = models.Sequential()\n",
        "model.add(base_model)\n",
        "model.add(layers.GlobalAveragePooling2D())\n",
        "model.add(layers.BatchNormalization())\n",
        "model.add(layers.Dense(128, activation='relu'))\n",
        "model.add(layers.Dropout(0.5))\n",
        "model.add(layers.BatchNormalization())\n",
        "model.add(layers.Dense(len(lb.classes_), activation='softmax'))\n",
        "\n",
        "for layer in base_model.layers:\n",
        "    layer.trainable = False"
      ]
    },
    {
      "cell_type": "code",
      "execution_count": 9,
      "metadata": {
        "colab": {
          "base_uri": "https://localhost:8080/"
        },
        "id": "8XPvGhTAKjwl",
        "outputId": "4f679822-2223-4f06-cc3d-b2663d99cae2"
      },
      "outputs": [
        {
          "output_type": "stream",
          "name": "stdout",
          "text": [
            "Epoch 1/30\n",
            "\u001b[1m50/50\u001b[0m \u001b[32m━━━━━━━━━━━━━━━━━━━━\u001b[0m\u001b[37m\u001b[0m \u001b[1m22s\u001b[0m 192ms/step - accuracy: 0.1333 - loss: 2.8415 - val_accuracy: 0.3525 - val_loss: 1.9265\n",
            "Epoch 2/30\n",
            "\u001b[1m50/50\u001b[0m \u001b[32m━━━━━━━━━━━━━━━━━━━━\u001b[0m\u001b[37m\u001b[0m \u001b[1m2s\u001b[0m 45ms/step - accuracy: 0.3075 - loss: 2.0929 - val_accuracy: 0.5825 - val_loss: 1.4893\n",
            "Epoch 3/30\n",
            "\u001b[1m50/50\u001b[0m \u001b[32m━━━━━━━━━━━━━━━━━━━━\u001b[0m\u001b[37m\u001b[0m \u001b[1m3s\u001b[0m 45ms/step - accuracy: 0.4749 - loss: 1.5738 - val_accuracy: 0.6625 - val_loss: 1.2439\n",
            "Epoch 4/30\n",
            "\u001b[1m50/50\u001b[0m \u001b[32m━━━━━━━━━━━━━━━━━━━━\u001b[0m\u001b[37m\u001b[0m \u001b[1m3s\u001b[0m 45ms/step - accuracy: 0.5648 - loss: 1.2983 - val_accuracy: 0.6950 - val_loss: 1.0892\n",
            "Epoch 5/30\n",
            "\u001b[1m50/50\u001b[0m \u001b[32m━━━━━━━━━━━━━━━━━━━━\u001b[0m\u001b[37m\u001b[0m \u001b[1m2s\u001b[0m 43ms/step - accuracy: 0.6415 - loss: 1.1440 - val_accuracy: 0.7150 - val_loss: 0.9890\n",
            "Epoch 6/30\n",
            "\u001b[1m50/50\u001b[0m \u001b[32m━━━━━━━━━━━━━━━━━━━━\u001b[0m\u001b[37m\u001b[0m \u001b[1m2s\u001b[0m 42ms/step - accuracy: 0.6645 - loss: 1.0095 - val_accuracy: 0.7325 - val_loss: 0.9200\n",
            "Epoch 7/30\n",
            "\u001b[1m50/50\u001b[0m \u001b[32m━━━━━━━━━━━━━━━━━━━━\u001b[0m\u001b[37m\u001b[0m \u001b[1m3s\u001b[0m 46ms/step - accuracy: 0.7257 - loss: 0.8914 - val_accuracy: 0.7400 - val_loss: 0.8755\n",
            "Epoch 8/30\n",
            "\u001b[1m50/50\u001b[0m \u001b[32m━━━━━━━━━━━━━━━━━━━━\u001b[0m\u001b[37m\u001b[0m \u001b[1m2s\u001b[0m 45ms/step - accuracy: 0.7321 - loss: 0.8398 - val_accuracy: 0.7475 - val_loss: 0.8347\n",
            "Epoch 9/30\n",
            "\u001b[1m50/50\u001b[0m \u001b[32m━━━━━━━━━━━━━━━━━━━━\u001b[0m\u001b[37m\u001b[0m \u001b[1m3s\u001b[0m 45ms/step - accuracy: 0.7726 - loss: 0.8044 - val_accuracy: 0.7550 - val_loss: 0.8033\n",
            "Epoch 10/30\n",
            "\u001b[1m50/50\u001b[0m \u001b[32m━━━━━━━━━━━━━━━━━━━━\u001b[0m\u001b[37m\u001b[0m \u001b[1m3s\u001b[0m 47ms/step - accuracy: 0.7757 - loss: 0.7450 - val_accuracy: 0.7675 - val_loss: 0.7775\n",
            "Epoch 11/30\n",
            "\u001b[1m50/50\u001b[0m \u001b[32m━━━━━━━━━━━━━━━━━━━━\u001b[0m\u001b[37m\u001b[0m \u001b[1m3s\u001b[0m 46ms/step - accuracy: 0.8187 - loss: 0.6664 - val_accuracy: 0.7725 - val_loss: 0.7531\n",
            "Epoch 12/30\n",
            "\u001b[1m50/50\u001b[0m \u001b[32m━━━━━━━━━━━━━━━━━━━━\u001b[0m\u001b[37m\u001b[0m \u001b[1m2s\u001b[0m 41ms/step - accuracy: 0.8154 - loss: 0.6538 - val_accuracy: 0.7850 - val_loss: 0.7284\n",
            "Epoch 13/30\n",
            "\u001b[1m50/50\u001b[0m \u001b[32m━━━━━━━━━━━━━━━━━━━━\u001b[0m\u001b[37m\u001b[0m \u001b[1m3s\u001b[0m 45ms/step - accuracy: 0.8095 - loss: 0.6155 - val_accuracy: 0.7875 - val_loss: 0.7151\n",
            "Epoch 14/30\n",
            "\u001b[1m50/50\u001b[0m \u001b[32m━━━━━━━━━━━━━━━━━━━━\u001b[0m\u001b[37m\u001b[0m \u001b[1m2s\u001b[0m 41ms/step - accuracy: 0.8698 - loss: 0.5152 - val_accuracy: 0.7900 - val_loss: 0.7034\n",
            "Epoch 15/30\n",
            "\u001b[1m50/50\u001b[0m \u001b[32m━━━━━━━━━━━━━━━━━━━━\u001b[0m\u001b[37m\u001b[0m \u001b[1m2s\u001b[0m 47ms/step - accuracy: 0.8530 - loss: 0.5245 - val_accuracy: 0.8000 - val_loss: 0.6861\n",
            "Epoch 16/30\n",
            "\u001b[1m50/50\u001b[0m \u001b[32m━━━━━━━━━━━━━━━━━━━━\u001b[0m\u001b[37m\u001b[0m \u001b[1m2s\u001b[0m 41ms/step - accuracy: 0.8388 - loss: 0.5212 - val_accuracy: 0.8075 - val_loss: 0.6757\n",
            "Epoch 17/30\n",
            "\u001b[1m50/50\u001b[0m \u001b[32m━━━━━━━━━━━━━━━━━━━━\u001b[0m\u001b[37m\u001b[0m \u001b[1m3s\u001b[0m 45ms/step - accuracy: 0.8573 - loss: 0.4986 - val_accuracy: 0.8075 - val_loss: 0.6678\n",
            "Epoch 18/30\n",
            "\u001b[1m50/50\u001b[0m \u001b[32m━━━━━━━━━━━━━━━━━━━━\u001b[0m\u001b[37m\u001b[0m \u001b[1m2s\u001b[0m 45ms/step - accuracy: 0.8709 - loss: 0.4575 - val_accuracy: 0.8100 - val_loss: 0.6530\n",
            "Epoch 19/30\n",
            "\u001b[1m50/50\u001b[0m \u001b[32m━━━━━━━━━━━━━━━━━━━━\u001b[0m\u001b[37m\u001b[0m \u001b[1m2s\u001b[0m 40ms/step - accuracy: 0.8865 - loss: 0.4157 - val_accuracy: 0.8100 - val_loss: 0.6372\n",
            "Epoch 20/30\n",
            "\u001b[1m50/50\u001b[0m \u001b[32m━━━━━━━━━━━━━━━━━━━━\u001b[0m\u001b[37m\u001b[0m \u001b[1m2s\u001b[0m 46ms/step - accuracy: 0.9030 - loss: 0.3929 - val_accuracy: 0.8175 - val_loss: 0.6288\n",
            "Epoch 21/30\n",
            "\u001b[1m50/50\u001b[0m \u001b[32m━━━━━━━━━━━━━━━━━━━━\u001b[0m\u001b[37m\u001b[0m \u001b[1m2s\u001b[0m 41ms/step - accuracy: 0.9078 - loss: 0.3854 - val_accuracy: 0.8200 - val_loss: 0.6200\n",
            "Epoch 22/30\n",
            "\u001b[1m50/50\u001b[0m \u001b[32m━━━━━━━━━━━━━━━━━━━━\u001b[0m\u001b[37m\u001b[0m \u001b[1m3s\u001b[0m 45ms/step - accuracy: 0.8749 - loss: 0.4137 - val_accuracy: 0.8225 - val_loss: 0.6111\n",
            "Epoch 23/30\n",
            "\u001b[1m50/50\u001b[0m \u001b[32m━━━━━━━━━━━━━━━━━━━━\u001b[0m\u001b[37m\u001b[0m \u001b[1m2s\u001b[0m 40ms/step - accuracy: 0.8967 - loss: 0.3764 - val_accuracy: 0.8250 - val_loss: 0.6013\n",
            "Epoch 24/30\n",
            "\u001b[1m50/50\u001b[0m \u001b[32m━━━━━━━━━━━━━━━━━━━━\u001b[0m\u001b[37m\u001b[0m \u001b[1m2s\u001b[0m 41ms/step - accuracy: 0.9012 - loss: 0.3661 - val_accuracy: 0.8250 - val_loss: 0.5969\n",
            "Epoch 25/30\n",
            "\u001b[1m50/50\u001b[0m \u001b[32m━━━━━━━━━━━━━━━━━━━━\u001b[0m\u001b[37m\u001b[0m \u001b[1m2s\u001b[0m 46ms/step - accuracy: 0.9362 - loss: 0.3079 - val_accuracy: 0.8300 - val_loss: 0.5918\n",
            "Epoch 26/30\n",
            "\u001b[1m50/50\u001b[0m \u001b[32m━━━━━━━━━━━━━━━━━━━━\u001b[0m\u001b[37m\u001b[0m \u001b[1m2s\u001b[0m 43ms/step - accuracy: 0.9209 - loss: 0.3236 - val_accuracy: 0.8250 - val_loss: 0.5839\n",
            "Epoch 27/30\n",
            "\u001b[1m50/50\u001b[0m \u001b[32m━━━━━━━━━━━━━━━━━━━━\u001b[0m\u001b[37m\u001b[0m \u001b[1m2s\u001b[0m 41ms/step - accuracy: 0.9132 - loss: 0.3400 - val_accuracy: 0.8300 - val_loss: 0.5806\n",
            "Epoch 28/30\n",
            "\u001b[1m50/50\u001b[0m \u001b[32m━━━━━━━━━━━━━━━━━━━━\u001b[0m\u001b[37m\u001b[0m \u001b[1m2s\u001b[0m 41ms/step - accuracy: 0.9337 - loss: 0.2989 - val_accuracy: 0.8300 - val_loss: 0.5743\n",
            "Epoch 29/30\n",
            "\u001b[1m50/50\u001b[0m \u001b[32m━━━━━━━━━━━━━━━━━━━━\u001b[0m\u001b[37m\u001b[0m \u001b[1m2s\u001b[0m 40ms/step - accuracy: 0.9342 - loss: 0.2925 - val_accuracy: 0.8325 - val_loss: 0.5701\n",
            "Epoch 30/30\n",
            "\u001b[1m50/50\u001b[0m \u001b[32m━━━━━━━━━━━━━━━━━━━━\u001b[0m\u001b[37m\u001b[0m \u001b[1m3s\u001b[0m 41ms/step - accuracy: 0.9241 - loss: 0.2953 - val_accuracy: 0.8300 - val_loss: 0.5697\n"
          ]
        }
      ],
      "source": [
        "# model.compile(optimizer=Adam(learning_rate=1e-4), loss='categorical_crossentropy', metrics=['accuracy'])\n",
        "\n",
        "model.compile(optimizer=Adam(learning_rate=0.0001), loss='categorical_crossentropy', metrics=['accuracy'])\n",
        "\n",
        "history = model.fit(\n",
        "    train_images, train_labels,\n",
        "    epochs=30,\n",
        "    batch_size=32,\n",
        "    validation_data=(validation_images, validation_labels)\n",
        ")"
      ]
    },
    {
      "cell_type": "code",
      "execution_count": 11,
      "metadata": {
        "colab": {
          "base_uri": "https://localhost:8080/",
          "height": 887
        },
        "id": "Aguez4MRKosh",
        "outputId": "8d8be5da-f10a-44ca-8c4c-08a99f91c2b9"
      },
      "outputs": [
        {
          "output_type": "display_data",
          "data": {
            "text/plain": [
              "<Figure size 640x480 with 1 Axes>"
            ],
            "image/png": "[encoded data removed]"
          },
          "metadata": {}
        },
        {
          "output_type": "display_data",
          "data": {
            "text/plain": [
              "<Figure size 640x480 with 1 Axes>"
            ],
            "image/png": "[encoded data removed]"
          },
          "metadata": {}
        }
      ],
      "source": [
        "import matplotlib.pyplot as plt\n",
        "\n",
        "plt.plot(history.history['accuracy'], label='accuracy')\n",
        "plt.plot(history.history['val_accuracy'], label = 'val_accuracy')\n",
        "plt.xlabel('Epoch')\n",
        "plt.ylabel('Accuracy')\n",
        "plt.ylim([0, 1])\n",
        "plt.legend(loc='lower right')\n",
        "plt.show()\n",
        "\n",
        "plt.plot(history.history['loss'], label='loss')\n",
        "plt.plot(history.history['val_loss'], label='val_loss')\n",
        "plt.xlabel('Epoch')\n",
        "plt.ylabel('Loss')\n",
        "plt.legend(loc='upper right')\n",
        "plt.show()"
      ]
    },
    {
      "cell_type": "code",
      "execution_count": 12,
      "metadata": {
        "colab": {
          "base_uri": "https://localhost:8080/"
        },
        "id": "nxmt5jl9KrFv",
        "outputId": "5b18b5c3-2ba9-49c0-8594-4ff9fe58b744"
      },
      "outputs": [
        {
          "output_type": "stream",
          "name": "stdout",
          "text": [
            "['Jamur Barat', 'Coprinopsis lagopus', 'jamur kuping', 'Leucoagaricus leucothites', 'Jamur Merang', 'Amanita phalloides', 'jamur Lentinus Squarrosulus', 'Mycena leaiana', 'Jamur Tiram', 'Chlorophyllum molybdites']\n",
            "['Jamur Barat', 'Coprinopsis lagopus', 'jamur kuping', 'Leucoagaricus leucothites', 'Jamur Merang', 'Amanita phalloides', 'jamur Lentinus Squarrosulus', 'Mycena leaiana', 'Jamur Tiram', 'Chlorophyllum molybdites']\n"
          ]
        }
      ],
      "source": [
        "print(os.listdir(train_dir))\n",
        "print(os.listdir(validation_dir))"
      ]
    },
    {
      "cell_type": "code",
      "execution_count": 13,
      "metadata": {
        "id": "jRDvCN8gBd3i",
        "outputId": "94863c75-8f0a-413b-a1b5-12d096c432ab",
        "colab": {
          "base_uri": "https://localhost:8080/"
        }
      },
      "outputs": [
        {
          "output_type": "stream",
          "name": "stdout",
          "text": [
            "\u001b[1m13/13\u001b[0m \u001b[32m━━━━━━━━━━━━━━━━━━━━\u001b[0m\u001b[37m\u001b[0m \u001b[1m1s\u001b[0m 36ms/step - accuracy: 0.8026 - loss: 0.6320\n",
            "Loss: 0.5697\n",
            "Accuracy: 83.00%\n",
            "\u001b[1m13/13\u001b[0m \u001b[32m━━━━━━━━━━━━━━━━━━━━\u001b[0m\u001b[37m\u001b[0m \u001b[1m7s\u001b[0m 341ms/step\n",
            "Validation Accuracy: 83.00%\n",
            "Confusion Matrix:\n",
            "[[36  1  0  0  0  0  3  0  0  0]\n",
            " [ 0 34  2  0  1  0  2  0  1  0]\n",
            " [ 0  3 36  0  0  0  0  0  0  1]\n",
            " [ 3  2  3 29  3  0  0  0  0  0]\n",
            " [ 6  0  5  1 14  9  1  0  4  0]\n",
            " [ 0  0  0  0  2 36  0  0  1  1]\n",
            " [ 0  2  0  1  1  1 35  0  0  0]\n",
            " [ 0  0  0  0  0  0  0 39  0  1]\n",
            " [ 0  0  2  1  0  1  0  0 36  0]\n",
            " [ 0  0  0  0  0  1  0  2  0 37]]\n",
            "Classification Report:\n",
            "              precision    recall  f1-score   support\n",
            "\n",
            "           0       0.80      0.90      0.85        40\n",
            "           1       0.81      0.85      0.83        40\n",
            "           2       0.75      0.90      0.82        40\n",
            "           3       0.91      0.72      0.81        40\n",
            "           4       0.67      0.35      0.46        40\n",
            "           5       0.75      0.90      0.82        40\n",
            "           6       0.85      0.88      0.86        40\n",
            "           7       0.95      0.97      0.96        40\n",
            "           8       0.86      0.90      0.88        40\n",
            "           9       0.93      0.93      0.93        40\n",
            "\n",
            "    accuracy                           0.83       400\n",
            "   macro avg       0.83      0.83      0.82       400\n",
            "weighted avg       0.83      0.83      0.82       400\n",
            "\n"
          ]
        }
      ],
      "source": [
        "# Evaluate the model\n",
        "loss, accuracy = model.evaluate(validation_images, validation_labels)\n",
        "print(f'Loss: {loss:.4f}')\n",
        "print(f'Accuracy: {accuracy * 100:.2f}%')\n",
        "\n",
        "# Predict classes\n",
        "y_pred = np.argmax(model.predict(validation_images), axis=1)\n",
        "y_true = np.argmax(validation_labels, axis=1)\n",
        "\n",
        "# Calculate validation accuracy\n",
        "val_accuracy = accuracy_score(y_true, y_pred)\n",
        "print(f'Validation Accuracy: {val_accuracy * 100:.2f}%')\n",
        "\n",
        "# Print confusion matrix and classification report\n",
        "print('Confusion Matrix:')\n",
        "print(confusion_matrix(y_true, y_pred))\n",
        "print('Classification Report:')\n",
        "print(classification_report(y_true, y_pred))"
      ]
    },
    {
      "cell_type": "code",
      "execution_count": 14,
      "metadata": {
        "id": "Oz9FDG0nBd3j",
        "colab": {
          "base_uri": "https://localhost:8080/"
        },
        "outputId": "fa0cf870-7704-4764-d9fe-e49eaf3eb255"
      },
      "outputs": [
        {
          "output_type": "stream",
          "name": "stderr",
          "text": [
            "WARNING:absl:You are saving your model as an HDF5 file via `model.save()` or `keras.saving.save_model(model)`. This file format is considered legacy. We recommend using instead the native Keras format, e.g. `model.save('my_model.keras')` or `keras.saving.save_model(model, 'my_model.keras')`. \n"
          ]
        }
      ],
      "source": [
        "model.save('model.h5')"
      ]
    },
    {
      "cell_type": "code",
      "execution_count": 15,
      "metadata": {
        "id": "G0mediIZBd3j",
        "outputId": "755a4d9e-f0e7-4385-d144-1938c8d3eb37",
        "colab": {
          "base_uri": "https://localhost:8080/"
        }
      },
      "outputs": [
        {
          "output_type": "stream",
          "name": "stdout",
          "text": [
            "Saved artifact at '/tmp/tmpq5xa9qxn'. The following endpoints are available:\n",
            "\n",
            "* Endpoint 'serve'\n",
            "  args_0 (POSITIONAL_ONLY): TensorSpec(shape=(None, 224, 224, 3), dtype=tf.float32, name='keras_tensor_154')\n",
            "Output Type:\n",
            "  TensorSpec(shape=(None, 10), dtype=tf.float32, name=None)\n",
            "Captures:\n",
            "  139959931546000: TensorSpec(shape=(), dtype=tf.resource, name=None)\n",
            "  139959931545616: TensorSpec(shape=(), dtype=tf.resource, name=None)\n",
            "  139959931547920: TensorSpec(shape=(), dtype=tf.resource, name=None)\n",
            "  139959931547536: TensorSpec(shape=(), dtype=tf.resource, name=None)\n",
            "  139959931546384: TensorSpec(shape=(), dtype=tf.resource, name=None)\n",
            "  139959931548112: TensorSpec(shape=(), dtype=tf.resource, name=None)\n",
            "  139959931547152: TensorSpec(shape=(), dtype=tf.resource, name=None)\n",
            "  139959931535632: TensorSpec(shape=(), dtype=tf.resource, name=None)\n",
            "  139959931548304: TensorSpec(shape=(), dtype=tf.resource, name=None)\n",
            "  139959931546192: TensorSpec(shape=(), dtype=tf.resource, name=None)\n",
            "  139959931548688: TensorSpec(shape=(), dtype=tf.resource, name=None)\n",
            "  139959931550224: TensorSpec(shape=(), dtype=tf.resource, name=None)\n",
            "  139959931546960: TensorSpec(shape=(), dtype=tf.resource, name=None)\n",
            "  139959931546768: TensorSpec(shape=(), dtype=tf.resource, name=None)\n",
            "  139959931549264: TensorSpec(shape=(), dtype=tf.resource, name=None)\n",
            "  139959929668048: TensorSpec(shape=(), dtype=tf.resource, name=None)\n",
            "  139959929669968: TensorSpec(shape=(), dtype=tf.resource, name=None)\n",
            "  139959929668624: TensorSpec(shape=(), dtype=tf.resource, name=None)\n",
            "  139959929669008: TensorSpec(shape=(), dtype=tf.resource, name=None)\n",
            "  139959929667856: TensorSpec(shape=(), dtype=tf.resource, name=None)\n",
            "  139959929671504: TensorSpec(shape=(), dtype=tf.resource, name=None)\n",
            "  139959929671120: TensorSpec(shape=(), dtype=tf.resource, name=None)\n",
            "  139959929670736: TensorSpec(shape=(), dtype=tf.resource, name=None)\n",
            "  139959929671696: TensorSpec(shape=(), dtype=tf.resource, name=None)\n",
            "  139959929670352: TensorSpec(shape=(), dtype=tf.resource, name=None)\n",
            "  139959929673808: TensorSpec(shape=(), dtype=tf.resource, name=None)\n",
            "  139959929674192: TensorSpec(shape=(), dtype=tf.resource, name=None)\n",
            "  139959929674576: TensorSpec(shape=(), dtype=tf.resource, name=None)\n",
            "  139959929674384: TensorSpec(shape=(), dtype=tf.resource, name=None)\n",
            "  139959929669200: TensorSpec(shape=(), dtype=tf.resource, name=None)\n",
            "  139959929675728: TensorSpec(shape=(), dtype=tf.resource, name=None)\n",
            "  139959929676112: TensorSpec(shape=(), dtype=tf.resource, name=None)\n",
            "  139959929676496: TensorSpec(shape=(), dtype=tf.resource, name=None)\n",
            "  139959929676304: TensorSpec(shape=(), dtype=tf.resource, name=None)\n",
            "  139959929672656: TensorSpec(shape=(), dtype=tf.resource, name=None)\n",
            "  139959929677648: TensorSpec(shape=(), dtype=tf.resource, name=None)\n",
            "  139959929678032: TensorSpec(shape=(), dtype=tf.resource, name=None)\n",
            "  139959929678416: TensorSpec(shape=(), dtype=tf.resource, name=None)\n",
            "  139959929678224: TensorSpec(shape=(), dtype=tf.resource, name=None)\n",
            "  139959929673424: TensorSpec(shape=(), dtype=tf.resource, name=None)\n",
            "  139959929675344: TensorSpec(shape=(), dtype=tf.resource, name=None)\n",
            "  139959929680144: TensorSpec(shape=(), dtype=tf.resource, name=None)\n",
            "  139959929680528: TensorSpec(shape=(), dtype=tf.resource, name=None)\n",
            "  139959929680336: TensorSpec(shape=(), dtype=tf.resource, name=None)\n",
            "  139959929676880: TensorSpec(shape=(), dtype=tf.resource, name=None)\n",
            "  139959929679184: TensorSpec(shape=(), dtype=tf.resource, name=None)\n",
            "  139959929682256: TensorSpec(shape=(), dtype=tf.resource, name=None)\n",
            "  139959929682640: TensorSpec(shape=(), dtype=tf.resource, name=None)\n",
            "  139959929682448: TensorSpec(shape=(), dtype=tf.resource, name=None)\n",
            "  139959929679568: TensorSpec(shape=(), dtype=tf.resource, name=None)\n",
            "  139959929683792: TensorSpec(shape=(), dtype=tf.resource, name=None)\n",
            "  139959929681296: TensorSpec(shape=(), dtype=tf.resource, name=None)\n",
            "  139959930061072: TensorSpec(shape=(), dtype=tf.resource, name=None)\n",
            "  139959929683408: TensorSpec(shape=(), dtype=tf.resource, name=None)\n",
            "  139959929681872: TensorSpec(shape=(), dtype=tf.resource, name=None)\n",
            "  139959930062608: TensorSpec(shape=(), dtype=tf.resource, name=None)\n",
            "  139959930062992: TensorSpec(shape=(), dtype=tf.resource, name=None)\n",
            "  139959930063376: TensorSpec(shape=(), dtype=tf.resource, name=None)\n",
            "  139959930063184: TensorSpec(shape=(), dtype=tf.resource, name=None)\n",
            "  139959930061264: TensorSpec(shape=(), dtype=tf.resource, name=None)\n",
            "  139959930064528: TensorSpec(shape=(), dtype=tf.resource, name=None)\n",
            "  139959930064912: TensorSpec(shape=(), dtype=tf.resource, name=None)\n",
            "  139959930065296: TensorSpec(shape=(), dtype=tf.resource, name=None)\n",
            "  139959930065104: TensorSpec(shape=(), dtype=tf.resource, name=None)\n",
            "  139959930061840: TensorSpec(shape=(), dtype=tf.resource, name=None)\n",
            "  139959930066448: TensorSpec(shape=(), dtype=tf.resource, name=None)\n",
            "  139959930066832: TensorSpec(shape=(), dtype=tf.resource, name=None)\n",
            "  139959930067216: TensorSpec(shape=(), dtype=tf.resource, name=None)\n",
            "  139959930067024: TensorSpec(shape=(), dtype=tf.resource, name=None)\n",
            "  139959930062224: TensorSpec(shape=(), dtype=tf.resource, name=None)\n",
            "  139959930068368: TensorSpec(shape=(), dtype=tf.resource, name=None)\n",
            "  139959930068752: TensorSpec(shape=(), dtype=tf.resource, name=None)\n",
            "  139959930069136: TensorSpec(shape=(), dtype=tf.resource, name=None)\n",
            "  139959930068944: TensorSpec(shape=(), dtype=tf.resource, name=None)\n",
            "  139959930064144: TensorSpec(shape=(), dtype=tf.resource, name=None)\n",
            "  139959930070288: TensorSpec(shape=(), dtype=tf.resource, name=None)\n",
            "  139959930070672: TensorSpec(shape=(), dtype=tf.resource, name=None)\n",
            "  139959930071056: TensorSpec(shape=(), dtype=tf.resource, name=None)\n",
            "  139959930070864: TensorSpec(shape=(), dtype=tf.resource, name=None)\n",
            "  139959930066064: TensorSpec(shape=(), dtype=tf.resource, name=None)\n",
            "  139959930072208: TensorSpec(shape=(), dtype=tf.resource, name=None)\n",
            "  139959930072592: TensorSpec(shape=(), dtype=tf.resource, name=None)\n",
            "  139959930072976: TensorSpec(shape=(), dtype=tf.resource, name=None)\n",
            "  139959930072784: TensorSpec(shape=(), dtype=tf.resource, name=None)\n",
            "  139959930067984: TensorSpec(shape=(), dtype=tf.resource, name=None)\n",
            "  139959930074128: TensorSpec(shape=(), dtype=tf.resource, name=None)\n",
            "  139959930074512: TensorSpec(shape=(), dtype=tf.resource, name=None)\n",
            "  139959930074896: TensorSpec(shape=(), dtype=tf.resource, name=None)\n",
            "  139959930074704: TensorSpec(shape=(), dtype=tf.resource, name=None)\n",
            "  139959930069904: TensorSpec(shape=(), dtype=tf.resource, name=None)\n",
            "  139959930076048: TensorSpec(shape=(), dtype=tf.resource, name=None)\n",
            "  139959930075664: TensorSpec(shape=(), dtype=tf.resource, name=None)\n",
            "  139959930073744: TensorSpec(shape=(), dtype=tf.resource, name=None)\n",
            "  139959930076624: TensorSpec(shape=(), dtype=tf.resource, name=None)\n",
            "  139959930071824: TensorSpec(shape=(), dtype=tf.resource, name=None)\n",
            "  139959930075280: TensorSpec(shape=(), dtype=tf.resource, name=None)\n",
            "  139959930488016: TensorSpec(shape=(), dtype=tf.resource, name=None)\n",
            "  139959930487056: TensorSpec(shape=(), dtype=tf.resource, name=None)\n",
            "  139959930487824: TensorSpec(shape=(), dtype=tf.resource, name=None)\n",
            "  139959930486864: TensorSpec(shape=(), dtype=tf.resource, name=None)\n",
            "  139959930489552: TensorSpec(shape=(), dtype=tf.resource, name=None)\n",
            "  139959930489936: TensorSpec(shape=(), dtype=tf.resource, name=None)\n",
            "  139959930490320: TensorSpec(shape=(), dtype=tf.resource, name=None)\n",
            "  139959930490128: TensorSpec(shape=(), dtype=tf.resource, name=None)\n",
            "  139959930487248: TensorSpec(shape=(), dtype=tf.resource, name=None)\n",
            "  139959930491472: TensorSpec(shape=(), dtype=tf.resource, name=None)\n",
            "  139959930491856: TensorSpec(shape=(), dtype=tf.resource, name=None)\n",
            "  139959930492240: TensorSpec(shape=(), dtype=tf.resource, name=None)\n",
            "  139959930492048: TensorSpec(shape=(), dtype=tf.resource, name=None)\n",
            "  139959930488400: TensorSpec(shape=(), dtype=tf.resource, name=None)\n",
            "  139959930493392: TensorSpec(shape=(), dtype=tf.resource, name=None)\n",
            "  139959930493776: TensorSpec(shape=(), dtype=tf.resource, name=None)\n",
            "  139959930494160: TensorSpec(shape=(), dtype=tf.resource, name=None)\n",
            "  139959930493968: TensorSpec(shape=(), dtype=tf.resource, name=None)\n",
            "  139959930489168: TensorSpec(shape=(), dtype=tf.resource, name=None)\n",
            "  139959930495312: TensorSpec(shape=(), dtype=tf.resource, name=None)\n",
            "  139959930495696: TensorSpec(shape=(), dtype=tf.resource, name=None)\n",
            "  139959930496080: TensorSpec(shape=(), dtype=tf.resource, name=None)\n",
            "  139959930495888: TensorSpec(shape=(), dtype=tf.resource, name=None)\n",
            "  139959930491088: TensorSpec(shape=(), dtype=tf.resource, name=None)\n",
            "  139959930497232: TensorSpec(shape=(), dtype=tf.resource, name=None)\n",
            "  139959930497616: TensorSpec(shape=(), dtype=tf.resource, name=None)\n",
            "  139959930498000: TensorSpec(shape=(), dtype=tf.resource, name=None)\n",
            "  139959930497808: TensorSpec(shape=(), dtype=tf.resource, name=None)\n",
            "  139959930493008: TensorSpec(shape=(), dtype=tf.resource, name=None)\n",
            "  139959930499152: TensorSpec(shape=(), dtype=tf.resource, name=None)\n",
            "  139959930499536: TensorSpec(shape=(), dtype=tf.resource, name=None)\n",
            "  139959930499920: TensorSpec(shape=(), dtype=tf.resource, name=None)\n",
            "  139959930499728: TensorSpec(shape=(), dtype=tf.resource, name=None)\n",
            "  139959930494928: TensorSpec(shape=(), dtype=tf.resource, name=None)\n",
            "  139959930501072: TensorSpec(shape=(), dtype=tf.resource, name=None)\n",
            "  139959930501456: TensorSpec(shape=(), dtype=tf.resource, name=None)\n",
            "  139959930501840: TensorSpec(shape=(), dtype=tf.resource, name=None)\n",
            "  139959930501648: TensorSpec(shape=(), dtype=tf.resource, name=None)\n",
            "  139959930496848: TensorSpec(shape=(), dtype=tf.resource, name=None)\n",
            "  139959930502992: TensorSpec(shape=(), dtype=tf.resource, name=None)\n",
            "  139959930498768: TensorSpec(shape=(), dtype=tf.resource, name=None)\n",
            "  139959874011792: TensorSpec(shape=(), dtype=tf.resource, name=None)\n",
            "  139959930502608: TensorSpec(shape=(), dtype=tf.resource, name=None)\n",
            "  139959930500688: TensorSpec(shape=(), dtype=tf.resource, name=None)\n",
            "  139959874012944: TensorSpec(shape=(), dtype=tf.resource, name=None)\n",
            "  139959874013328: TensorSpec(shape=(), dtype=tf.resource, name=None)\n",
            "  139959874013712: TensorSpec(shape=(), dtype=tf.resource, name=None)\n",
            "  139959874013520: TensorSpec(shape=(), dtype=tf.resource, name=None)\n",
            "  139959874012176: TensorSpec(shape=(), dtype=tf.resource, name=None)\n",
            "  139959874014864: TensorSpec(shape=(), dtype=tf.resource, name=None)\n",
            "  139959874015248: TensorSpec(shape=(), dtype=tf.resource, name=None)\n",
            "  139959874016208: TensorSpec(shape=(), dtype=tf.resource, name=None)\n",
            "  139959874016016: TensorSpec(shape=(), dtype=tf.resource, name=None)\n",
            "  139959874011408: TensorSpec(shape=(), dtype=tf.resource, name=None)\n",
            "  139959874016784: TensorSpec(shape=(), dtype=tf.resource, name=None)\n",
            "  139959874017168: TensorSpec(shape=(), dtype=tf.resource, name=None)\n",
            "  139959874017552: TensorSpec(shape=(), dtype=tf.resource, name=None)\n",
            "  139959874017360: TensorSpec(shape=(), dtype=tf.resource, name=None)\n",
            "  139959874014480: TensorSpec(shape=(), dtype=tf.resource, name=None)\n",
            "  139959874018704: TensorSpec(shape=(), dtype=tf.resource, name=None)\n",
            "  139959874019088: TensorSpec(shape=(), dtype=tf.resource, name=None)\n",
            "  139959874019472: TensorSpec(shape=(), dtype=tf.resource, name=None)\n",
            "  139959874019280: TensorSpec(shape=(), dtype=tf.resource, name=None)\n",
            "  139959874015824: TensorSpec(shape=(), dtype=tf.resource, name=None)\n",
            "  139959874020624: TensorSpec(shape=(), dtype=tf.resource, name=None)\n",
            "  139959874021008: TensorSpec(shape=(), dtype=tf.resource, name=None)\n",
            "  139959874021392: TensorSpec(shape=(), dtype=tf.resource, name=None)\n",
            "  139959874021200: TensorSpec(shape=(), dtype=tf.resource, name=None)\n",
            "  139959874016400: TensorSpec(shape=(), dtype=tf.resource, name=None)\n",
            "  139959874022544: TensorSpec(shape=(), dtype=tf.resource, name=None)\n",
            "  139959874022928: TensorSpec(shape=(), dtype=tf.resource, name=None)\n",
            "  139959874023312: TensorSpec(shape=(), dtype=tf.resource, name=None)\n",
            "  139959874023120: TensorSpec(shape=(), dtype=tf.resource, name=None)\n",
            "  139959874018320: TensorSpec(shape=(), dtype=tf.resource, name=None)\n",
            "  139959874024464: TensorSpec(shape=(), dtype=tf.resource, name=None)\n",
            "  139959874024848: TensorSpec(shape=(), dtype=tf.resource, name=None)\n",
            "  139959874025232: TensorSpec(shape=(), dtype=tf.resource, name=None)\n",
            "  139959874025040: TensorSpec(shape=(), dtype=tf.resource, name=None)\n",
            "  139959874020240: TensorSpec(shape=(), dtype=tf.resource, name=None)\n",
            "  139959874026384: TensorSpec(shape=(), dtype=tf.resource, name=None)\n",
            "  139959874026000: TensorSpec(shape=(), dtype=tf.resource, name=None)\n",
            "  139959874024080: TensorSpec(shape=(), dtype=tf.resource, name=None)\n",
            "  139959874026960: TensorSpec(shape=(), dtype=tf.resource, name=None)\n",
            "  139959874022160: TensorSpec(shape=(), dtype=tf.resource, name=None)\n",
            "  139959874025616: TensorSpec(shape=(), dtype=tf.resource, name=None)\n",
            "  139959874405584: TensorSpec(shape=(), dtype=tf.resource, name=None)\n",
            "  139959874404432: TensorSpec(shape=(), dtype=tf.resource, name=None)\n",
            "  139959874405776: TensorSpec(shape=(), dtype=tf.resource, name=None)\n",
            "  139959874404624: TensorSpec(shape=(), dtype=tf.resource, name=None)\n",
            "  139959874407120: TensorSpec(shape=(), dtype=tf.resource, name=None)\n",
            "  139959874407504: TensorSpec(shape=(), dtype=tf.resource, name=None)\n",
            "  139959874407888: TensorSpec(shape=(), dtype=tf.resource, name=None)\n",
            "  139959874407696: TensorSpec(shape=(), dtype=tf.resource, name=None)\n",
            "  139959874405968: TensorSpec(shape=(), dtype=tf.resource, name=None)\n",
            "  139959931544464: TensorSpec(shape=(), dtype=tf.resource, name=None)\n",
            "  139959874408656: TensorSpec(shape=(), dtype=tf.resource, name=None)\n",
            "  139959874409424: TensorSpec(shape=(), dtype=tf.resource, name=None)\n",
            "  139959874409232: TensorSpec(shape=(), dtype=tf.resource, name=None)\n",
            "  139959874408272: TensorSpec(shape=(), dtype=tf.resource, name=None)\n",
            "  139959874410576: TensorSpec(shape=(), dtype=tf.resource, name=None)\n",
            "  139959874410960: TensorSpec(shape=(), dtype=tf.resource, name=None)\n",
            "  139959874411344: TensorSpec(shape=(), dtype=tf.resource, name=None)\n",
            "  139959874411152: TensorSpec(shape=(), dtype=tf.resource, name=None)\n",
            "  139959874408848: TensorSpec(shape=(), dtype=tf.resource, name=None)\n",
            "  139959874412496: TensorSpec(shape=(), dtype=tf.resource, name=None)\n",
            "  139959874412880: TensorSpec(shape=(), dtype=tf.resource, name=None)\n",
            "  139959874413264: TensorSpec(shape=(), dtype=tf.resource, name=None)\n",
            "  139959874413072: TensorSpec(shape=(), dtype=tf.resource, name=None)\n",
            "  139959874404816: TensorSpec(shape=(), dtype=tf.resource, name=None)\n",
            "  139959874414416: TensorSpec(shape=(), dtype=tf.resource, name=None)\n",
            "  139959874414800: TensorSpec(shape=(), dtype=tf.resource, name=None)\n",
            "  139959874415184: TensorSpec(shape=(), dtype=tf.resource, name=None)\n",
            "  139959874414992: TensorSpec(shape=(), dtype=tf.resource, name=None)\n",
            "  139959874410192: TensorSpec(shape=(), dtype=tf.resource, name=None)\n",
            "  139959874416336: TensorSpec(shape=(), dtype=tf.resource, name=None)\n",
            "  139959874416720: TensorSpec(shape=(), dtype=tf.resource, name=None)\n",
            "  139959874417104: TensorSpec(shape=(), dtype=tf.resource, name=None)\n",
            "  139959874416912: TensorSpec(shape=(), dtype=tf.resource, name=None)\n",
            "  139959874412112: TensorSpec(shape=(), dtype=tf.resource, name=None)\n",
            "  139959874418256: TensorSpec(shape=(), dtype=tf.resource, name=None)\n",
            "  139959874418640: TensorSpec(shape=(), dtype=tf.resource, name=None)\n",
            "  139959874419024: TensorSpec(shape=(), dtype=tf.resource, name=None)\n",
            "  139959874418832: TensorSpec(shape=(), dtype=tf.resource, name=None)\n",
            "  139959874414032: TensorSpec(shape=(), dtype=tf.resource, name=None)\n",
            "  139959874420176: TensorSpec(shape=(), dtype=tf.resource, name=None)\n",
            "  139959874405200: TensorSpec(shape=(), dtype=tf.resource, name=None)\n",
            "  139959874420560: TensorSpec(shape=(), dtype=tf.resource, name=None)\n",
            "  139959874420368: TensorSpec(shape=(), dtype=tf.resource, name=None)\n",
            "  139959874417872: TensorSpec(shape=(), dtype=tf.resource, name=None)\n",
            "  139959874683344: TensorSpec(shape=(), dtype=tf.resource, name=None)\n",
            "  139959874684688: TensorSpec(shape=(), dtype=tf.resource, name=None)\n",
            "  139959874685072: TensorSpec(shape=(), dtype=tf.resource, name=None)\n",
            "  139959874684880: TensorSpec(shape=(), dtype=tf.resource, name=None)\n",
            "  139959874683536: TensorSpec(shape=(), dtype=tf.resource, name=None)\n",
            "  139959874686224: TensorSpec(shape=(), dtype=tf.resource, name=None)\n",
            "  139959874686608: TensorSpec(shape=(), dtype=tf.resource, name=None)\n",
            "  139959874686992: TensorSpec(shape=(), dtype=tf.resource, name=None)\n",
            "  139959874686800: TensorSpec(shape=(), dtype=tf.resource, name=None)\n",
            "  139959874684112: TensorSpec(shape=(), dtype=tf.resource, name=None)\n",
            "  139959874688144: TensorSpec(shape=(), dtype=tf.resource, name=None)\n",
            "  139959874688528: TensorSpec(shape=(), dtype=tf.resource, name=None)\n",
            "  139959874688912: TensorSpec(shape=(), dtype=tf.resource, name=None)\n",
            "  139959874688720: TensorSpec(shape=(), dtype=tf.resource, name=None)\n",
            "  139959874684304: TensorSpec(shape=(), dtype=tf.resource, name=None)\n",
            "  139959874690064: TensorSpec(shape=(), dtype=tf.resource, name=None)\n",
            "  139959874690448: TensorSpec(shape=(), dtype=tf.resource, name=None)\n",
            "  139959874690832: TensorSpec(shape=(), dtype=tf.resource, name=None)\n",
            "  139959874690640: TensorSpec(shape=(), dtype=tf.resource, name=None)\n",
            "  139959874685840: TensorSpec(shape=(), dtype=tf.resource, name=None)\n",
            "  139959874691984: TensorSpec(shape=(), dtype=tf.resource, name=None)\n",
            "  139959874692368: TensorSpec(shape=(), dtype=tf.resource, name=None)\n",
            "  139959874692752: TensorSpec(shape=(), dtype=tf.resource, name=None)\n",
            "  139959874692560: TensorSpec(shape=(), dtype=tf.resource, name=None)\n",
            "  139959874687760: TensorSpec(shape=(), dtype=tf.resource, name=None)\n",
            "  139959874693904: TensorSpec(shape=(), dtype=tf.resource, name=None)\n",
            "  139959874694288: TensorSpec(shape=(), dtype=tf.resource, name=None)\n",
            "  139959874694672: TensorSpec(shape=(), dtype=tf.resource, name=None)\n",
            "  139959874694480: TensorSpec(shape=(), dtype=tf.resource, name=None)\n",
            "  139959874689680: TensorSpec(shape=(), dtype=tf.resource, name=None)\n",
            "  139959874695824: TensorSpec(shape=(), dtype=tf.resource, name=None)\n",
            "  139959874696208: TensorSpec(shape=(), dtype=tf.resource, name=None)\n",
            "  139959874696592: TensorSpec(shape=(), dtype=tf.resource, name=None)\n",
            "  139959874696400: TensorSpec(shape=(), dtype=tf.resource, name=None)\n",
            "  139959874691600: TensorSpec(shape=(), dtype=tf.resource, name=None)\n",
            "  139959874699088: TensorSpec(shape=(), dtype=tf.resource, name=None)\n",
            "  139959874697936: TensorSpec(shape=(), dtype=tf.resource, name=None)\n",
            "  139959874698320: TensorSpec(shape=(), dtype=tf.resource, name=None)\n",
            "  139959874683920: TensorSpec(shape=(), dtype=tf.resource, name=None)\n",
            "  139959836737616: TensorSpec(shape=(), dtype=tf.resource, name=None)\n",
            "  139959836739536: TensorSpec(shape=(), dtype=tf.resource, name=None)\n",
            "  139959836739728: TensorSpec(shape=(), dtype=tf.resource, name=None)\n",
            "  139959836740304: TensorSpec(shape=(), dtype=tf.resource, name=None)\n",
            "  139959836738768: TensorSpec(shape=(), dtype=tf.resource, name=None)\n",
            "  139959836738384: TensorSpec(shape=(), dtype=tf.resource, name=None)\n",
            "  139959836740688: TensorSpec(shape=(), dtype=tf.resource, name=None)\n",
            "  139959836742224: TensorSpec(shape=(), dtype=tf.resource, name=None)\n",
            "Model has been converted to TFLite and saved as 'model.tflite'\n"
          ]
        }
      ],
      "source": [
        "converter = tf.lite.TFLiteConverter.from_keras_model(model)\n",
        "tflite_model = converter.convert()\n",
        "\n",
        "with open('modelJamur2025.tflite', 'wb') as f:\n",
        "    f.write(tflite_model)\n",
        "\n",
        "print(\"Model has been converted to TFLite and saved as 'model.tflite'\")"
      ]
    },
    {
      "cell_type": "code",
      "execution_count": 16,
      "metadata": {
        "colab": {
          "base_uri": "https://localhost:8080/"
        },
        "id": "bzv_nTekKs_S",
        "outputId": "54abda2a-69f7-49f5-af1f-161c5e752ec7"
      },
      "outputs": [
        {
          "output_type": "stream",
          "name": "stdout",
          "text": [
            "\u001b[1m1/1\u001b[0m \u001b[32m━━━━━━━━━━━━━━━━━━━━\u001b[0m\u001b[37m\u001b[0m \u001b[1m3s\u001b[0m 3s/step\n"
          ]
        },
        {
          "output_type": "stream",
          "name": "stderr",
          "text": [
            "WARNING:absl:You are saving your model as an HDF5 file via `model.save()` or `keras.saving.save_model(model)`. This file format is considered legacy. We recommend using instead the native Keras format, e.g. `model.save('my_model.keras')` or `keras.saving.save_model(model, 'my_model.keras')`. \n"
          ]
        },
        {
          "output_type": "stream",
          "name": "stdout",
          "text": [
            "Predicted Class: Jamur Barat\n",
            "Prediction Accuracy: 73.20%\n"
          ]
        }
      ],
      "source": [
        "img_path = '/content/474618939_1574171453235263_7077573543714173650_n.jpg'\n",
        "img = image.load_img(img_path, target_size=(224, 224))\n",
        "img_array = image.img_to_array(img)\n",
        "img_array = np.expand_dims(img_array, axis=0)\n",
        "img_array /= 255.0\n",
        "\n",
        "# Define class labels\n",
        "labels = [\n",
        "    'Amanita phalloides',\n",
        "    'Chlorophyllum molybdites',\n",
        "    'Coprinopsis lagopus',\n",
        "    'Jamur Barat',\n",
        "    'Jamur Merang',\n",
        "    'Jamur Tiram',\n",
        "    'Leucoagaricus leucothites',\n",
        "    'Mycena leaiana',\n",
        "    'jamur Lentinus Squarrosulus',\n",
        "    'jamur kuping'\n",
        "]\n",
        "\n",
        "# Make a prediction\n",
        "prediction = model.predict(img_array)\n",
        "index = np.argmax(prediction)\n",
        "class_names = labels[index]\n",
        "\n",
        "# Print prediction results\n",
        "accuracy = np.max(prediction) * 100\n",
        "predicted_class = class_names\n",
        "print(f\"Predicted Class: {predicted_class}\")\n",
        "print(f\"Prediction Accuracy: {accuracy:.2f}%\")\n",
        "\n",
        "# Save the model\n",
        "model.save(\"model.h5\")\n",
        "\n",
        "# # Evaluate the model on the validation set\n",
        "# val_predictions = model.predict(validation_images)\n",
        "# val_predictions_classes = np.argmax(val_predictions, axis=1)\n",
        "# val_true_classes = np.argmax(validation_labels, axis=1)\n",
        "\n",
        "# # Print evaluation metrics\n",
        "# print(\"Accuracy: \", accuracy_score(val_true_classes, val_predictions_classes))\n",
        "# print(\"Classification Report:\\n\", classification_report(val_true_classes, val_predictions_classes, target_names=labels))\n",
        "# print(\"Confusion Matrix:\\n\", confusion_matrix(val_true_classes, val_predictions_classes))\n",
        "\n",
        "# # Visualize the confusion matrix\n",
        "# conf_matrix = confusion_matrix(val_true_classes, val_predictions_classes)\n",
        "# plt.figure(figsize=(10, 8))\n",
        "# sns.heatmap(conf_matrix, annot=True, fmt='d', cmap='Blues', xticklabels=labels, yticklabels=labels)\n",
        "# plt.xlabel('Predicted')\n",
        "# plt.ylabel('Actual')\n",
        "# plt.title('Confusion Matrix')\n",
        "# plt.show()"
      ]
    }
  ],
  "metadata": {
    "colab": {
      "provenance": [],
      "gpuType": "T4",
      "include_colab_link": true
    },
    "kernelspec": {
      "display_name": "Python 3",
      "name": "python3"
    },
    "language_info": {
      "codemirror_mode": {
        "name": "ipython",
        "version": 3
      },
      "file_extension": ".py",
      "mimetype": "text/x-python",
      "name": "python",
      "nbconvert_exporter": "python",
      "pygments_lexer": "ipython3",
      "version": "3.8.18"
    },
    "accelerator": "GPU"
  },
  "nbformat": 4,
  "nbformat_minor": 0
}